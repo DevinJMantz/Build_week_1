{
 "cells": [
  {
   "cell_type": "markdown",
   "metadata": {},
   "source": [
    "# Chess Game Results"
   ]
  },
  {
   "cell_type": "code",
   "execution_count": 1,
   "metadata": {},
   "outputs": [],
   "source": [
    "from sklearn.ensemble import RandomForestClassifier\n",
    "from sklearn.impute import SimpleImputer\n",
    "from sklearn.pipeline import make_pipeline\n",
    "from category_encoders import OrdinalEncoder, OneHotEncoder\n",
    "from sklearn.model_selection import GridSearchCV, train_test_split\n",
    "import numpy as np\n",
    "import pandas as pd\n",
    "from xgboost import XGBClassifier\n",
    "from sklearn.linear_model import LogisticRegression"
   ]
  },
  {
   "cell_type": "markdown",
   "metadata": {},
   "source": [
    "## Wrangle Data"
   ]
  },
  {
   "cell_type": "code",
   "execution_count": 2,
   "metadata": {},
   "outputs": [],
   "source": [
    "# Define function to get white and blacks first two moves \n",
    "def first_move_white(col):\n",
    "    moves = col.split()\n",
    "    return moves[1]\n",
    "\n",
    "def first_move_black(col):\n",
    "    moves = col.split()\n",
    "    return moves[2]\n",
    "\n",
    "def second_move_white(col):\n",
    "    moves = col.split()\n",
    "    return moves[4]\n",
    "\n",
    "def second_move_black(col):\n",
    "    moves = col.split()\n",
    "    return moves[5]\n",
    "\n",
    "# Define function to find length of game\n",
    "def game_len(col):\n",
    "    moves = col.split()\n",
    "    return len(moves)"
   ]
  },
  {
   "cell_type": "code",
   "execution_count": 3,
   "metadata": {},
   "outputs": [],
   "source": [
    "# Define wrangle function \n",
    "def wrangle(data):\n",
    "    df = pd.read_csv('../data/'+data)\n",
    "    \n",
    "    #Create datetime column and make that column the index\n",
    "    df['UTCDateTime'] = df['UTCDate'] + ' ' + df['UTCTime']\n",
    "    df.set_index('UTCDateTime', inplace=True)\n",
    "    \n",
    "    #Drop UTCDate and UTCTime\n",
    "    df.drop(columns=['UTCDate', 'UTCTime'], inplace=True)\n",
    "    \n",
    "    #Drop * values for result\n",
    "    df = df[df.Result != '*']\n",
    "    \n",
    "    #Drop games with less than 5 turns\n",
    "    df['length'] = df['AN'].apply(game_len)\n",
    "    df = df[df.length > 15]\n",
    "    df.drop(columns=['length'], axis=1, inplace=True)\n",
    "    \n",
    "    #Drop player names\n",
    "    df.drop(columns=['White', 'Black'], axis=1, inplace=True)\n",
    "    \n",
    "    #Make new Columns for the first moves of black and white \n",
    "    df['WhiteFirst'] = df['AN'].apply(first_move_white)\n",
    "    df['BlackFirst'] = df['AN'].apply(first_move_black)\n",
    "    df['WhiteSecond'] = df['AN'].apply(second_move_white)\n",
    "    df['BlackSecond'] = df['AN'].apply(second_move_black)\n",
    "    \n",
    "    #Drop moves and elo change to avoid data leakage\n",
    "    df.drop(columns=['AN', 'WhiteRatingDiff', 'BlackRatingDiff'], axis=1, inplace=True)\n",
    "    \n",
    "    return df"
   ]
  },
  {
   "cell_type": "code",
   "execution_count": 4,
   "metadata": {
    "scrolled": false
   },
   "outputs": [
    {
     "data": {
      "text/html": [
       "<div>\n",
       "<style scoped>\n",
       "    .dataframe tbody tr th:only-of-type {\n",
       "        vertical-align: middle;\n",
       "    }\n",
       "\n",
       "    .dataframe tbody tr th {\n",
       "        vertical-align: top;\n",
       "    }\n",
       "\n",
       "    .dataframe thead th {\n",
       "        text-align: right;\n",
       "    }\n",
       "</style>\n",
       "<table border=\"1\" class=\"dataframe\">\n",
       "  <thead>\n",
       "    <tr style=\"text-align: right;\">\n",
       "      <th></th>\n",
       "      <th>Unnamed: 0</th>\n",
       "      <th>Event</th>\n",
       "      <th>Result</th>\n",
       "      <th>WhiteElo</th>\n",
       "      <th>BlackElo</th>\n",
       "      <th>ECO</th>\n",
       "      <th>Opening</th>\n",
       "      <th>TimeControl</th>\n",
       "      <th>Termination</th>\n",
       "      <th>WhiteFirst</th>\n",
       "      <th>BlackFirst</th>\n",
       "      <th>WhiteSecond</th>\n",
       "      <th>BlackSecond</th>\n",
       "    </tr>\n",
       "    <tr>\n",
       "      <th>UTCDateTime</th>\n",
       "      <th></th>\n",
       "      <th></th>\n",
       "      <th></th>\n",
       "      <th></th>\n",
       "      <th></th>\n",
       "      <th></th>\n",
       "      <th></th>\n",
       "      <th></th>\n",
       "      <th></th>\n",
       "      <th></th>\n",
       "      <th></th>\n",
       "      <th></th>\n",
       "      <th></th>\n",
       "    </tr>\n",
       "  </thead>\n",
       "  <tbody>\n",
       "    <tr>\n",
       "      <th>2016.06.30 22:00:01</th>\n",
       "      <td>0</td>\n",
       "      <td>Classical</td>\n",
       "      <td>1-0</td>\n",
       "      <td>1901</td>\n",
       "      <td>1896</td>\n",
       "      <td>D10</td>\n",
       "      <td>Slav Defense</td>\n",
       "      <td>300+5</td>\n",
       "      <td>Time forfeit</td>\n",
       "      <td>d4</td>\n",
       "      <td>d5</td>\n",
       "      <td>c4</td>\n",
       "      <td>c6</td>\n",
       "    </tr>\n",
       "    <tr>\n",
       "      <th>2016.06.30 22:00:01</th>\n",
       "      <td>1</td>\n",
       "      <td>Blitz</td>\n",
       "      <td>0-1</td>\n",
       "      <td>1641</td>\n",
       "      <td>1627</td>\n",
       "      <td>C20</td>\n",
       "      <td>King's Pawn Opening: 2.b3</td>\n",
       "      <td>300+0</td>\n",
       "      <td>Normal</td>\n",
       "      <td>e4</td>\n",
       "      <td>e5</td>\n",
       "      <td>b3</td>\n",
       "      <td>Nf6</td>\n",
       "    </tr>\n",
       "    <tr>\n",
       "      <th>2016.06.30 22:00:02</th>\n",
       "      <td>2</td>\n",
       "      <td>Blitz tournament</td>\n",
       "      <td>1-0</td>\n",
       "      <td>1647</td>\n",
       "      <td>1688</td>\n",
       "      <td>B01</td>\n",
       "      <td>Scandinavian Defense: Mieses-Kotroc Variation</td>\n",
       "      <td>180+0</td>\n",
       "      <td>Time forfeit</td>\n",
       "      <td>e4</td>\n",
       "      <td>d5</td>\n",
       "      <td>exd5</td>\n",
       "      <td>Qxd5</td>\n",
       "    </tr>\n",
       "    <tr>\n",
       "      <th>2016.06.30 22:00:02</th>\n",
       "      <td>3</td>\n",
       "      <td>Correspondence</td>\n",
       "      <td>1-0</td>\n",
       "      <td>1706</td>\n",
       "      <td>1317</td>\n",
       "      <td>A00</td>\n",
       "      <td>Van't Kruijs Opening</td>\n",
       "      <td>-</td>\n",
       "      <td>Normal</td>\n",
       "      <td>e3</td>\n",
       "      <td>Nf6</td>\n",
       "      <td>Bc4</td>\n",
       "      <td>d6</td>\n",
       "    </tr>\n",
       "    <tr>\n",
       "      <th>2016.06.30 22:00:02</th>\n",
       "      <td>4</td>\n",
       "      <td>Blitz tournament</td>\n",
       "      <td>0-1</td>\n",
       "      <td>1945</td>\n",
       "      <td>1900</td>\n",
       "      <td>B90</td>\n",
       "      <td>Sicilian Defense: Najdorf, Lipnitsky Attack</td>\n",
       "      <td>180+0</td>\n",
       "      <td>Time forfeit</td>\n",
       "      <td>e4</td>\n",
       "      <td>c5</td>\n",
       "      <td>Nf3</td>\n",
       "      <td>d6</td>\n",
       "    </tr>\n",
       "  </tbody>\n",
       "</table>\n",
       "</div>"
      ],
      "text/plain": [
       "                     Unnamed: 0               Event Result  WhiteElo  \\\n",
       "UTCDateTime                                                            \n",
       "2016.06.30 22:00:01           0          Classical     1-0      1901   \n",
       "2016.06.30 22:00:01           1              Blitz     0-1      1641   \n",
       "2016.06.30 22:00:02           2   Blitz tournament     1-0      1647   \n",
       "2016.06.30 22:00:02           3     Correspondence     1-0      1706   \n",
       "2016.06.30 22:00:02           4   Blitz tournament     0-1      1945   \n",
       "\n",
       "                     BlackElo  ECO  \\\n",
       "UTCDateTime                          \n",
       "2016.06.30 22:00:01      1896  D10   \n",
       "2016.06.30 22:00:01      1627  C20   \n",
       "2016.06.30 22:00:02      1688  B01   \n",
       "2016.06.30 22:00:02      1317  A00   \n",
       "2016.06.30 22:00:02      1900  B90   \n",
       "\n",
       "                                                           Opening  \\\n",
       "UTCDateTime                                                          \n",
       "2016.06.30 22:00:01                                   Slav Defense   \n",
       "2016.06.30 22:00:01                      King's Pawn Opening: 2.b3   \n",
       "2016.06.30 22:00:02  Scandinavian Defense: Mieses-Kotroc Variation   \n",
       "2016.06.30 22:00:02                           Van't Kruijs Opening   \n",
       "2016.06.30 22:00:02    Sicilian Defense: Najdorf, Lipnitsky Attack   \n",
       "\n",
       "                    TimeControl   Termination WhiteFirst BlackFirst  \\\n",
       "UTCDateTime                                                           \n",
       "2016.06.30 22:00:01       300+5  Time forfeit         d4         d5   \n",
       "2016.06.30 22:00:01       300+0        Normal         e4         e5   \n",
       "2016.06.30 22:00:02       180+0  Time forfeit         e4         d5   \n",
       "2016.06.30 22:00:02           -        Normal         e3        Nf6   \n",
       "2016.06.30 22:00:02       180+0  Time forfeit         e4         c5   \n",
       "\n",
       "                    WhiteSecond BlackSecond  \n",
       "UTCDateTime                                  \n",
       "2016.06.30 22:00:01          c4          c6  \n",
       "2016.06.30 22:00:01          b3         Nf6  \n",
       "2016.06.30 22:00:02        exd5        Qxd5  \n",
       "2016.06.30 22:00:02         Bc4          d6  \n",
       "2016.06.30 22:00:02         Nf3          d6  "
      ]
     },
     "execution_count": 4,
     "metadata": {},
     "output_type": "execute_result"
    }
   ],
   "source": [
    "df = wrangle('chess.csv')\n",
    "\n",
    "\n",
    "df.head()"
   ]
  },
  {
   "cell_type": "markdown",
   "metadata": {},
   "source": [
    "## Baseline Accuracy"
   ]
  },
  {
   "cell_type": "code",
   "execution_count": 5,
   "metadata": {},
   "outputs": [
    {
     "name": "stdout",
     "output_type": "stream",
     "text": [
      "Baseline Accuracy: 0.49296060843565853\n"
     ]
    }
   ],
   "source": [
    "base_acc = df['Result'].value_counts(normalize=True)[0]\n",
    "print('Baseline Accuracy:', base_acc)"
   ]
  },
  {
   "cell_type": "markdown",
   "metadata": {},
   "source": [
    "## Split Data"
   ]
  },
  {
   "cell_type": "code",
   "execution_count": 6,
   "metadata": {},
   "outputs": [],
   "source": [
    "target = 'Result'\n",
    "\n",
    "X = df.drop(columns=target, axis = 1)\n",
    "y = df[target]\n",
    "\n",
    "X_train, X_val, y_train, y_val = train_test_split(X, y, test_size = .2, random_state=42)"
   ]
  },
  {
   "cell_type": "markdown",
   "metadata": {},
   "source": [
    "## Build Model"
   ]
  },
  {
   "cell_type": "code",
   "execution_count": 7,
   "metadata": {},
   "outputs": [],
   "source": [
    "# Hyperparamater tuning for LogisticRegressionCV\n",
    "# pipe = make_pipeline(\n",
    "#                 OneHotEncoder(use_cat_names=True), \n",
    "#                 SimpleImputer(), \n",
    "#                 LogisticRegression(random_state=42, solver='saga', n_jobs=-1)\n",
    "# )\n",
    "\n",
    "# params = {\n",
    "#     'logisticregression__max_iter': range(75,201,25)\n",
    "# }\n",
    "\n",
    "# model_gs = GridSearchCV(\n",
    "#         pipe,\n",
    "#         param_grid=params, \n",
    "#         cv=5,\n",
    "#         n_jobs=-1, \n",
    "#         verbose=1\n",
    "# )\n",
    "\n",
    "# model_gs.fit(X_train, y_train);\n",
    "\n",
    "# model_gs.best_params_"
   ]
  },
  {
   "cell_type": "code",
   "execution_count": 8,
   "metadata": {
    "scrolled": true
   },
   "outputs": [
    {
     "name": "stderr",
     "output_type": "stream",
     "text": [
      "c:\\users\\devin\\.virtualenvs\\build_week-vtn4_bx_\\lib\\site-packages\\sklearn\\linear_model\\_sag.py:328: ConvergenceWarning: The max_iter was reached which means the coef_ did not converge\n",
      "  warnings.warn(\"The max_iter was reached which means \"\n"
     ]
    }
   ],
   "source": [
    "# Model built with linear classification\n",
    "model_LR = make_pipeline(\n",
    "                OrdinalEncoder(), \n",
    "                SimpleImputer(), \n",
    "                LogisticRegression(random_state=42, solver='saga', n_jobs=-1, max_iter=125)\n",
    ")\n",
    "model_LR.fit(X_train, y_train);"
   ]
  },
  {
   "cell_type": "code",
   "execution_count": 9,
   "metadata": {},
   "outputs": [
    {
     "name": "stdout",
     "output_type": "stream",
     "text": [
      "Training Accuracy: 0.6350375557893972\n",
      "Validation Accuracy: 0.6259796806966619\n"
     ]
    }
   ],
   "source": [
    "print('Training Accuracy:', model_LR.score(X_train, y_train))\n",
    "print('Validation Accuracy:', model_LR.score(X_val, y_val))"
   ]
  },
  {
   "cell_type": "code",
   "execution_count": 15,
   "metadata": {},
   "outputs": [
    {
     "name": "stdout",
     "output_type": "stream",
     "text": [
      "Fitting 5 folds for each of 12 candidates, totalling 60 fits\n"
     ]
    },
    {
     "data": {
      "text/plain": [
       "{'randomforestclassifier__max_depth': 9}"
      ]
     },
     "execution_count": 15,
     "metadata": {},
     "output_type": "execute_result"
    }
   ],
   "source": [
    "# Hyperparamater tuning for XGBClassifier\n",
    "pipe = make_pipeline(\n",
    "                OrdinalEncoder(), \n",
    "                SimpleImputer(), \n",
    "                RandomForestClassifier(random_state=42, criterion='entropy', n_estimators=200)\n",
    ")\n",
    "\n",
    "params = {\n",
    "    'randomforestclassifier__max_depth': range(4,16)\n",
    "}\n",
    "\n",
    "model_gsr = GridSearchCV(\n",
    "        pipe,\n",
    "        param_grid=params, \n",
    "        cv=5,\n",
    "        n_jobs=-1, \n",
    "        verbose=1\n",
    ")\n",
    "\n",
    "model_gsr.fit(X_train, y_train);\n",
    "\n",
    "model_gsr.best_params_"
   ]
  },
  {
   "cell_type": "code",
   "execution_count": 24,
   "metadata": {},
   "outputs": [],
   "source": [
    "# Model built with XGB classifier \n",
    "model_RF = make_pipeline(\n",
    "            OrdinalEncoder(), \n",
    "            SimpleImputer(), \n",
    "            RandomForestClassifier(random_state=42, n_jobs=-1, max_depth=9, n_estimators=200)\n",
    ")\n",
    "model_RF.fit(X_train, y_train);"
   ]
  },
  {
   "cell_type": "code",
   "execution_count": 25,
   "metadata": {},
   "outputs": [
    {
     "name": "stdout",
     "output_type": "stream",
     "text": [
      "Training Accuracy: 0.6959613919227838\n",
      "Test Accuracy: 0.618577648766328\n"
     ]
    }
   ],
   "source": [
    "print('Training Accuracy:', model_RF.score(X_train, y_train))\n",
    "print('Validation Accuracy:', model_RF.score(X_val, y_val))"
   ]
  },
  {
   "cell_type": "markdown",
   "metadata": {},
   "source": [
    "## Test Score\n",
    "The better of the two mdeels was the logistical Regressor. Below is the test data accuracy for that model. "
   ]
  },
  {
   "cell_type": "code",
   "execution_count": 13,
   "metadata": {},
   "outputs": [],
   "source": [
    "test_df = wrangle('test_chess.csv')\n",
    "target = 'Result'\n",
    "\n",
    "X_test = test_df.drop(columns=target, axis = 1)\n",
    "y_test = test_df[target]"
   ]
  },
  {
   "cell_type": "code",
   "execution_count": 14,
   "metadata": {},
   "outputs": [
    {
     "data": {
      "text/plain": [
       "0.6260207963479584"
      ]
     },
     "execution_count": 14,
     "metadata": {},
     "output_type": "execute_result"
    }
   ],
   "source": [
    "model_LR.score(X_test, y_test)"
   ]
  }
 ],
 "metadata": {
  "kernelspec": {
   "display_name": "Python 3",
   "language": "python",
   "name": "python3"
  },
  "language_info": {
   "codemirror_mode": {
    "name": "ipython",
    "version": 3
   },
   "file_extension": ".py",
   "mimetype": "text/x-python",
   "name": "python",
   "nbconvert_exporter": "python",
   "pygments_lexer": "ipython3",
   "version": "3.9.2"
  }
 },
 "nbformat": 4,
 "nbformat_minor": 2
}
